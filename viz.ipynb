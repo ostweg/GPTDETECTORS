{
 "cells": [
  {
   "cell_type": "code",
   "execution_count": 210,
   "id": "5110b6ba-5aef-4b8c-9bc3-b65266364044",
   "metadata": {},
   "outputs": [],
   "source": [
    "import pandas as pd\n",
    "import seaborn as sns\n",
    "import numpy as np\n",
    "import matplotlib.pyplot as plt\n",
    "from matplotlib.font_manager import FontProperties"
   ]
  },
  {
   "cell_type": "code",
   "execution_count": null,
   "id": "69a1a66e-66a3-456e-a374-f97433dd206c",
   "metadata": {},
   "outputs": [],
   "source": []
  },
  {
   "cell_type": "code",
   "execution_count": 4,
   "id": "c2713954-a38f-4193-91c5-d51cfe6d510d",
   "metadata": {},
   "outputs": [],
   "source": [
    "data = pd.read_csv('https://raw.githubusercontent.com/rfordatascience/tidytuesday/master/data/2023/2023-07-18/detectors.csv')"
   ]
  },
  {
   "cell_type": "code",
   "execution_count": 107,
   "id": "d47b6860-2fed-46c5-8a84-364f0941ed13",
   "metadata": {},
   "outputs": [
    {
     "data": {
      "text/html": [
       "<div>\n",
       "<style scoped>\n",
       "    .dataframe tbody tr th:only-of-type {\n",
       "        vertical-align: middle;\n",
       "    }\n",
       "\n",
       "    .dataframe tbody tr th {\n",
       "        vertical-align: top;\n",
       "    }\n",
       "\n",
       "    .dataframe thead th {\n",
       "        text-align: right;\n",
       "    }\n",
       "</style>\n",
       "<table border=\"1\" class=\"dataframe\">\n",
       "  <thead>\n",
       "    <tr style=\"text-align: right;\">\n",
       "      <th></th>\n",
       "      <th>kind</th>\n",
       "      <th>.pred_AI</th>\n",
       "      <th>.pred_class</th>\n",
       "      <th>detector</th>\n",
       "      <th>native</th>\n",
       "      <th>name</th>\n",
       "      <th>model</th>\n",
       "      <th>document_id</th>\n",
       "      <th>prompt</th>\n",
       "    </tr>\n",
       "  </thead>\n",
       "  <tbody>\n",
       "    <tr>\n",
       "      <th>0</th>\n",
       "      <td>Human</td>\n",
       "      <td>0.999994</td>\n",
       "      <td>AI</td>\n",
       "      <td>Sapling</td>\n",
       "      <td>No</td>\n",
       "      <td>Real TOEFL</td>\n",
       "      <td>Human</td>\n",
       "      <td>497</td>\n",
       "      <td>NaN</td>\n",
       "    </tr>\n",
       "    <tr>\n",
       "      <th>1</th>\n",
       "      <td>Human</td>\n",
       "      <td>0.828145</td>\n",
       "      <td>AI</td>\n",
       "      <td>Crossplag</td>\n",
       "      <td>No</td>\n",
       "      <td>Real TOEFL</td>\n",
       "      <td>Human</td>\n",
       "      <td>278</td>\n",
       "      <td>NaN</td>\n",
       "    </tr>\n",
       "    <tr>\n",
       "      <th>2</th>\n",
       "      <td>Human</td>\n",
       "      <td>0.000214</td>\n",
       "      <td>Human</td>\n",
       "      <td>Crossplag</td>\n",
       "      <td>Yes</td>\n",
       "      <td>Real College Essays</td>\n",
       "      <td>Human</td>\n",
       "      <td>294</td>\n",
       "      <td>NaN</td>\n",
       "    </tr>\n",
       "    <tr>\n",
       "      <th>3</th>\n",
       "      <td>AI</td>\n",
       "      <td>0.000000</td>\n",
       "      <td>Human</td>\n",
       "      <td>ZeroGPT</td>\n",
       "      <td>NaN</td>\n",
       "      <td>Fake CS224N - GPT3</td>\n",
       "      <td>GPT3</td>\n",
       "      <td>671</td>\n",
       "      <td>Plain</td>\n",
       "    </tr>\n",
       "    <tr>\n",
       "      <th>4</th>\n",
       "      <td>AI</td>\n",
       "      <td>0.001784</td>\n",
       "      <td>Human</td>\n",
       "      <td>OriginalityAI</td>\n",
       "      <td>NaN</td>\n",
       "      <td>Fake CS224N - GPT3, PE</td>\n",
       "      <td>GPT4</td>\n",
       "      <td>717</td>\n",
       "      <td>Elevate using technical</td>\n",
       "    </tr>\n",
       "  </tbody>\n",
       "</table>\n",
       "</div>"
      ],
      "text/plain": [
       "    kind  .pred_AI .pred_class       detector native                    name  \\\n",
       "0  Human  0.999994          AI        Sapling     No              Real TOEFL   \n",
       "1  Human  0.828145          AI      Crossplag     No              Real TOEFL   \n",
       "2  Human  0.000214       Human      Crossplag    Yes     Real College Essays   \n",
       "3     AI  0.000000       Human        ZeroGPT    NaN      Fake CS224N - GPT3   \n",
       "4     AI  0.001784       Human  OriginalityAI    NaN  Fake CS224N - GPT3, PE   \n",
       "\n",
       "   model  document_id                   prompt  \n",
       "0  Human          497                      NaN  \n",
       "1  Human          278                      NaN  \n",
       "2  Human          294                      NaN  \n",
       "3   GPT3          671                    Plain  \n",
       "4   GPT4          717  Elevate using technical  "
      ]
     },
     "execution_count": 107,
     "metadata": {},
     "output_type": "execute_result"
    }
   ],
   "source": [
    "data.head()"
   ]
  },
  {
   "cell_type": "code",
   "execution_count": 102,
   "id": "950135a0-a815-4d00-965f-c44b704c9713",
   "metadata": {},
   "outputs": [
    {
     "name": "stdout",
     "output_type": "stream",
     "text": [
      "91\n"
     ]
    },
    {
     "data": {
      "text/html": [
       "<div>\n",
       "<style scoped>\n",
       "    .dataframe tbody tr th:only-of-type {\n",
       "        vertical-align: middle;\n",
       "    }\n",
       "\n",
       "    .dataframe tbody tr th {\n",
       "        vertical-align: top;\n",
       "    }\n",
       "\n",
       "    .dataframe thead th {\n",
       "        text-align: right;\n",
       "    }\n",
       "</style>\n",
       "<table border=\"1\" class=\"dataframe\">\n",
       "  <thead>\n",
       "    <tr style=\"text-align: right;\">\n",
       "      <th></th>\n",
       "      <th>kind</th>\n",
       "      <th>.pred_AI</th>\n",
       "      <th>.pred_class</th>\n",
       "      <th>detector</th>\n",
       "      <th>native</th>\n",
       "      <th>name</th>\n",
       "      <th>model</th>\n",
       "      <th>document_id</th>\n",
       "      <th>prompt</th>\n",
       "    </tr>\n",
       "  </thead>\n",
       "  <tbody>\n",
       "    <tr>\n",
       "      <th>1</th>\n",
       "      <td>Human</td>\n",
       "      <td>0.828145</td>\n",
       "      <td>AI</td>\n",
       "      <td>Crossplag</td>\n",
       "      <td>No</td>\n",
       "      <td>Real TOEFL</td>\n",
       "      <td>Human</td>\n",
       "      <td>278</td>\n",
       "      <td>NaN</td>\n",
       "    </tr>\n",
       "    <tr>\n",
       "      <th>59</th>\n",
       "      <td>Human</td>\n",
       "      <td>0.169786</td>\n",
       "      <td>Human</td>\n",
       "      <td>Crossplag</td>\n",
       "      <td>No</td>\n",
       "      <td>Real TOEFL</td>\n",
       "      <td>Human</td>\n",
       "      <td>264</td>\n",
       "      <td>NaN</td>\n",
       "    </tr>\n",
       "    <tr>\n",
       "      <th>128</th>\n",
       "      <td>Human</td>\n",
       "      <td>0.019563</td>\n",
       "      <td>Human</td>\n",
       "      <td>Crossplag</td>\n",
       "      <td>No</td>\n",
       "      <td>Real TOEFL</td>\n",
       "      <td>Human</td>\n",
       "      <td>460</td>\n",
       "      <td>NaN</td>\n",
       "    </tr>\n",
       "    <tr>\n",
       "      <th>150</th>\n",
       "      <td>Human</td>\n",
       "      <td>0.020909</td>\n",
       "      <td>Human</td>\n",
       "      <td>Crossplag</td>\n",
       "      <td>No</td>\n",
       "      <td>Real TOEFL</td>\n",
       "      <td>Human</td>\n",
       "      <td>322</td>\n",
       "      <td>NaN</td>\n",
       "    </tr>\n",
       "    <tr>\n",
       "      <th>331</th>\n",
       "      <td>Human</td>\n",
       "      <td>0.975465</td>\n",
       "      <td>AI</td>\n",
       "      <td>Crossplag</td>\n",
       "      <td>No</td>\n",
       "      <td>Real TOEFL</td>\n",
       "      <td>Human</td>\n",
       "      <td>525</td>\n",
       "      <td>NaN</td>\n",
       "    </tr>\n",
       "  </tbody>\n",
       "</table>\n",
       "</div>"
      ],
      "text/plain": [
       "      kind  .pred_AI .pred_class   detector native        name  model  \\\n",
       "1    Human  0.828145          AI  Crossplag     No  Real TOEFL  Human   \n",
       "59   Human  0.169786       Human  Crossplag     No  Real TOEFL  Human   \n",
       "128  Human  0.019563       Human  Crossplag     No  Real TOEFL  Human   \n",
       "150  Human  0.020909       Human  Crossplag     No  Real TOEFL  Human   \n",
       "331  Human  0.975465          AI  Crossplag     No  Real TOEFL  Human   \n",
       "\n",
       "     document_id prompt  \n",
       "1            278    NaN  \n",
       "59           264    NaN  \n",
       "128          460    NaN  \n",
       "150          322    NaN  \n",
       "331          525    NaN  "
      ]
     },
     "execution_count": 102,
     "metadata": {},
     "output_type": "execute_result"
    }
   ],
   "source": [
    "not_native_speaker_crossplag = data.loc[(data['native'] == 'No') & (data['detector']=='Crossplag')]\n",
    "print(len(not_native_speaker_crossplag))\n",
    "not_native_speaker_crossplag.head()"
   ]
  },
  {
   "cell_type": "code",
   "execution_count": 53,
   "id": "7393c431-df67-4632-91a6-685757116686",
   "metadata": {},
   "outputs": [],
   "source": [
    "not_native_speaker_crossplag = not_native_speaker_crossplag.drop(['.pred_class','native','name','model','document_id','prompt'], axis=1)"
   ]
  },
  {
   "cell_type": "code",
   "execution_count": 54,
   "id": "12934818-478a-4dfd-a7b7-b7a053c4bfb4",
   "metadata": {},
   "outputs": [
    {
     "data": {
      "text/html": [
       "<div>\n",
       "<style scoped>\n",
       "    .dataframe tbody tr th:only-of-type {\n",
       "        vertical-align: middle;\n",
       "    }\n",
       "\n",
       "    .dataframe tbody tr th {\n",
       "        vertical-align: top;\n",
       "    }\n",
       "\n",
       "    .dataframe thead th {\n",
       "        text-align: right;\n",
       "    }\n",
       "</style>\n",
       "<table border=\"1\" class=\"dataframe\">\n",
       "  <thead>\n",
       "    <tr style=\"text-align: right;\">\n",
       "      <th></th>\n",
       "      <th>kind</th>\n",
       "      <th>.pred_AI</th>\n",
       "      <th>detector</th>\n",
       "    </tr>\n",
       "  </thead>\n",
       "  <tbody>\n",
       "    <tr>\n",
       "      <th>1</th>\n",
       "      <td>Human</td>\n",
       "      <td>0.828145</td>\n",
       "      <td>Crossplag</td>\n",
       "    </tr>\n",
       "    <tr>\n",
       "      <th>59</th>\n",
       "      <td>Human</td>\n",
       "      <td>0.169786</td>\n",
       "      <td>Crossplag</td>\n",
       "    </tr>\n",
       "    <tr>\n",
       "      <th>128</th>\n",
       "      <td>Human</td>\n",
       "      <td>0.019563</td>\n",
       "      <td>Crossplag</td>\n",
       "    </tr>\n",
       "    <tr>\n",
       "      <th>150</th>\n",
       "      <td>Human</td>\n",
       "      <td>0.020909</td>\n",
       "      <td>Crossplag</td>\n",
       "    </tr>\n",
       "    <tr>\n",
       "      <th>331</th>\n",
       "      <td>Human</td>\n",
       "      <td>0.975465</td>\n",
       "      <td>Crossplag</td>\n",
       "    </tr>\n",
       "  </tbody>\n",
       "</table>\n",
       "</div>"
      ],
      "text/plain": [
       "      kind  .pred_AI   detector\n",
       "1    Human  0.828145  Crossplag\n",
       "59   Human  0.169786  Crossplag\n",
       "128  Human  0.019563  Crossplag\n",
       "150  Human  0.020909  Crossplag\n",
       "331  Human  0.975465  Crossplag"
      ]
     },
     "execution_count": 54,
     "metadata": {},
     "output_type": "execute_result"
    }
   ],
   "source": [
    "not_native_speaker_crossplag.head()"
   ]
  },
  {
   "cell_type": "code",
   "execution_count": 105,
   "id": "86d5723d-6e9d-4ff0-98b4-81e8cd51d718",
   "metadata": {},
   "outputs": [
    {
     "data": {
      "text/plain": [
       "Text(0.5, 1.0, 'Crossplag')"
      ]
     },
     "execution_count": 105,
     "metadata": {},
     "output_type": "execute_result"
    },
    {
     "data": {
      "image/png": "[encoded data removed]",
      "text/plain": [
       "<Figure size 600x600 with 1 Axes>"
      ]
     },
     "metadata": {},
     "output_type": "display_data"
    }
   ],
   "source": [
    "f, ax = plt.subplots(figsize=(6,6), )\n",
    "\n",
    "xticks,yticks = [0,50,100],[0,20,40,60]\n",
    "ax.set_xticks(xticks)\n",
    "ax.set_yticks(yticks)\n",
    "\n",
    "xticks_labels = [str(t)+'%' for t in xticks]\n",
    "ax.set_xticklabels(xticks_labels);\n",
    "\n",
    "ax.bar(not_native_speaker_crossplag['.pred_AI']*100,range(len(not_native_speaker_crossplag)))\n",
    "ax.set_title('Crossplag')"
   ]
  },
  {
   "cell_type": "code",
   "execution_count": 67,
   "id": "f610fb81-55ea-47d1-8635-a2ad91031073",
   "metadata": {},
   "outputs": [],
   "source": []
  },
  {
   "cell_type": "code",
   "execution_count": 68,
   "id": "956bcb4d-43dc-4d82-994f-22a884ce25ae",
   "metadata": {},
   "outputs": [
    {
     "data": {
      "text/plain": [
       "([0, 100, 200, 300], [0, 50, 100])"
      ]
     },
     "execution_count": 68,
     "metadata": {},
     "output_type": "execute_result"
    }
   ],
   "source": []
  },
  {
   "cell_type": "markdown",
   "id": "3f08587d-ee6c-4c2f-bac2-0f5589785724",
   "metadata": {},
   "source": [
    "# Dynamic"
   ]
  },
  {
   "cell_type": "code",
   "execution_count": 122,
   "id": "51459327-1482-4ca9-a0f4-c82510937922",
   "metadata": {},
   "outputs": [],
   "source": [
    "detectors = list(data['detector'].unique())"
   ]
  },
  {
   "cell_type": "code",
   "execution_count": 251,
   "id": "312ef673-db58-4e00-8b1d-7250b218d857",
   "metadata": {},
   "outputs": [
    {
     "data": {
      "image/png": "[encoded data removed]",
      "text/plain": [
       "<Figure size 1200x500 with 14 Axes>"
      ]
     },
     "metadata": {},
     "output_type": "display_data"
    }
   ],
   "source": [
    "titlefp = FontProperties(family=\"sans-serif\", size=70, weight=\"bold\")\n",
    "subtitlefp = FontProperties(family=\"sans-serif\", size=19)\n",
    "\n",
    "plt.rc('xtick', labelsize=9)\n",
    "plt.rc('ytick', labelsize=9)\n",
    "\n",
    "plt.rcParams.update({'text.color': \"#f2fbe0\",\n",
    "                     'axes.labelcolor': \"#f2fbe0\"})\n",
    "\n",
    "f, axs = plt.subplots(2,len(detectors),figsize=(12, 5),facecolor='#645c54')\n",
    "\n",
    "xticks,yticks0,yticks1 = [0,50,100],[0,20,40,60],[0,100,200,300]\n",
    "\n",
    "f.suptitle('GPT DETECTORS',y=1.18,fontproperties=titlefp)\n",
    "f.text(0.5,1,'Which models are most biased against non-native English writers?',horizontalalignment='center',verticalalignment='top',fontproperties=subtitlefp)\n",
    "f.text(0.5, 0.015, 'Predicted probability of being classified as AI', horizontalalignment='center')\n",
    "f.text(0.915, 0.81, 'Non-Native English', verticalalignment='top', rotation=-90)\n",
    "f.text(0.915, 0.4, 'Native English', verticalalignment='top', rotation=-90)\n",
    "f.text(0.085, 0.5, '# of observations', va='center', rotation='vertical')\n",
    "\n",
    "axs[0,0].set_yticks(yticks0)\n",
    "axs[1,0].set_yticks(yticks1) #scale 0-300 not working\n",
    " \n",
    "xticks_labels = [str(t)+'%' for t in xticks]\n",
    "\n",
    "def create_subplots(data,native,barcolor):\n",
    "    axs[native,fig_index].bar(data['.pred_AI']*100,range(len(data)),color=barcolor)\n",
    "    axs[0,fig_index].set_title(detector,fontsize=9)\n",
    "    axs[native,fig_index].set_xticks([])\n",
    "    axs[native,fig_index].set_facecolor('#645c54')\n",
    "    \n",
    "    #set empty ytick on every other detector besides the first one  \n",
    "    if fig_index != 0:\n",
    "        axs[native,fig_index].set_yticks([])\n",
    "\n",
    "for detector in detectors:\n",
    "    fig_index = detectors.index(detector)\n",
    "    \n",
    "    #row 0\n",
    "    x = data.loc[(data['native'] == 'No') & (data['detector']==detector)]\n",
    "    \n",
    "    create_subplots(x,0,'#dafeb7')\n",
    "    \n",
    "    #row 1\n",
    "    x1 = data.loc[(data['native'] == 'Yes') & (data['detector']==detector)]\n",
    "    \n",
    "    create_subplots(x1,1,'#acc18a')\n",
    "    "
   ]
  }
 ],
 "metadata": {
  "kernelspec": {
   "display_name": "Python 3 (ipykernel)",
   "language": "python",
   "name": "python3"
  },
  "language_info": {
   "codemirror_mode": {
    "name": "ipython",
    "version": 3
   },
   "file_extension": ".py",
   "mimetype": "text/x-python",
   "name": "python",
   "nbconvert_exporter": "python",
   "pygments_lexer": "ipython3",
   "version": "3.10.1"
  }
 },
 "nbformat": 4,
 "nbformat_minor": 5
}
